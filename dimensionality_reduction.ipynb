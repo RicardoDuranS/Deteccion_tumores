{
  "cells": [
    {
      "cell_type": "markdown",
      "metadata": {
        "id": "ZZgfWEehIjqS"
      },
      "source": [
        "# Machine Learning: Lidiando con datos de muchas dimensiones\n",
        "\n",
        "Cuando trabajamos con datos que contienen muchas dimensiones, lo recomendable es tomar dichos datos y transformarlos de modo que se ajusten a un espacio dimensional menor asegurándonos de que el espacio dimensional resultante mantenga las propiedades que mejor caracterizan a los datos originales, garantizando su dimensión intrínseca.\n",
        "\n",
        "\n",
        "En este notebook, estaremos demostrando varias estrategias para lidiar con la alta dimensionalidad en el modelaje de aprendizaje de máquina.\n",
        "\n",
        "\n",
        "El dataset empleado en el desarrollo de este proyecto es un dataset ficticio, llamado a ```data.csv```, adaptado a nuestro contexto, tomando como referencia el siguiente dataset:  \n",
        "\n",
        "*Dataset:* https://www.kaggle.com/uciml/breast-cancer-wisconsin-data"
      ]
    },
    {
      "cell_type": "markdown",
      "metadata": {
        "id": "t1M-apGPQVH6"
      },
      "source": [
        "# 1. Datos con muchas dimensiones\n",
        "\n",
        "*https://scikit-learn.org/stable/modules/generated/sklearn.model_selection.train_test_split.html*\n",
        "\n",
        "*https://scikit-learn.org/stable/modules/generated/sklearn.preprocessing.StandardScaler.html*\n",
        "\n",
        "*https://scikit-learn.org/stable/modules/generated/sklearn.linear_model.LogisticRegression.html*\n",
        "\n",
        "*https://scikit-learn.org/stable/modules/generated/sklearn.ensemble.RandomForestClassifier.html*"
      ]
    },
    {
      "cell_type": "code",
      "execution_count": 1,
      "metadata": {
        "id": "xLOo7qawrKcw"
      },
      "outputs": [
        {
          "data": {
            "text/html": [
              "<div>\n",
              "<style scoped>\n",
              "    .dataframe tbody tr th:only-of-type {\n",
              "        vertical-align: middle;\n",
              "    }\n",
              "\n",
              "    .dataframe tbody tr th {\n",
              "        vertical-align: top;\n",
              "    }\n",
              "\n",
              "    .dataframe thead th {\n",
              "        text-align: right;\n",
              "    }\n",
              "</style>\n",
              "<table border=\"1\" class=\"dataframe\">\n",
              "  <thead>\n",
              "    <tr style=\"text-align: right;\">\n",
              "      <th></th>\n",
              "      <th>id</th>\n",
              "      <th>diagnostico</th>\n",
              "      <th>examen_1</th>\n",
              "      <th>examen_2</th>\n",
              "      <th>examen_3</th>\n",
              "      <th>examen_4</th>\n",
              "      <th>examen_5</th>\n",
              "      <th>examen_6</th>\n",
              "      <th>examen_7</th>\n",
              "      <th>examen_8</th>\n",
              "      <th>...</th>\n",
              "      <th>examen_24</th>\n",
              "      <th>examen_25</th>\n",
              "      <th>examen_26</th>\n",
              "      <th>examen_27</th>\n",
              "      <th>examen_28</th>\n",
              "      <th>examen_29</th>\n",
              "      <th>examen_30</th>\n",
              "      <th>examen_31</th>\n",
              "      <th>examen_32</th>\n",
              "      <th>examen_33</th>\n",
              "    </tr>\n",
              "  </thead>\n",
              "  <tbody>\n",
              "    <tr>\n",
              "      <th>0</th>\n",
              "      <td>842302</td>\n",
              "      <td>M</td>\n",
              "      <td>17.99</td>\n",
              "      <td>10.38</td>\n",
              "      <td>122.8</td>\n",
              "      <td>103.78</td>\n",
              "      <td>1001.0</td>\n",
              "      <td>0.11840</td>\n",
              "      <td>0.27760</td>\n",
              "      <td>0.3001</td>\n",
              "      <td>...</td>\n",
              "      <td>184.6</td>\n",
              "      <td>2019.0</td>\n",
              "      <td>0.1622</td>\n",
              "      <td>0.6656</td>\n",
              "      <td>0.7119</td>\n",
              "      <td>0.786</td>\n",
              "      <td>0.2654</td>\n",
              "      <td>0.4601</td>\n",
              "      <td>0.11890</td>\n",
              "      <td>NaN</td>\n",
              "    </tr>\n",
              "    <tr>\n",
              "      <th>1</th>\n",
              "      <td>842517</td>\n",
              "      <td>M</td>\n",
              "      <td>20.57</td>\n",
              "      <td>17.77</td>\n",
              "      <td>132.9</td>\n",
              "      <td>103.78</td>\n",
              "      <td>1326.0</td>\n",
              "      <td>0.08474</td>\n",
              "      <td>0.07864</td>\n",
              "      <td>0.0869</td>\n",
              "      <td>...</td>\n",
              "      <td>158.8</td>\n",
              "      <td>1956.0</td>\n",
              "      <td>0.1238</td>\n",
              "      <td>0.1866</td>\n",
              "      <td>0.2416</td>\n",
              "      <td>0.786</td>\n",
              "      <td>0.1860</td>\n",
              "      <td>0.2750</td>\n",
              "      <td>0.08902</td>\n",
              "      <td>NaN</td>\n",
              "    </tr>\n",
              "    <tr>\n",
              "      <th>2</th>\n",
              "      <td>84300903</td>\n",
              "      <td>M</td>\n",
              "      <td>19.69</td>\n",
              "      <td>21.25</td>\n",
              "      <td>130.0</td>\n",
              "      <td>103.78</td>\n",
              "      <td>1203.0</td>\n",
              "      <td>0.10960</td>\n",
              "      <td>0.15990</td>\n",
              "      <td>0.1974</td>\n",
              "      <td>...</td>\n",
              "      <td>152.5</td>\n",
              "      <td>1709.0</td>\n",
              "      <td>0.1444</td>\n",
              "      <td>0.4245</td>\n",
              "      <td>0.4504</td>\n",
              "      <td>0.786</td>\n",
              "      <td>0.2430</td>\n",
              "      <td>0.3613</td>\n",
              "      <td>0.08758</td>\n",
              "      <td>NaN</td>\n",
              "    </tr>\n",
              "  </tbody>\n",
              "</table>\n",
              "<p>3 rows × 35 columns</p>\n",
              "</div>"
            ],
            "text/plain": [
              "         id diagnostico  examen_1  examen_2  examen_3  examen_4  examen_5  \\\n",
              "0    842302           M     17.99     10.38     122.8    103.78    1001.0   \n",
              "1    842517           M     20.57     17.77     132.9    103.78    1326.0   \n",
              "2  84300903           M     19.69     21.25     130.0    103.78    1203.0   \n",
              "\n",
              "   examen_6  examen_7  examen_8  ...  examen_24  examen_25  examen_26  \\\n",
              "0   0.11840   0.27760    0.3001  ...      184.6     2019.0     0.1622   \n",
              "1   0.08474   0.07864    0.0869  ...      158.8     1956.0     0.1238   \n",
              "2   0.10960   0.15990    0.1974  ...      152.5     1709.0     0.1444   \n",
              "\n",
              "   examen_27  examen_28  examen_29  examen_30  examen_31  examen_32  examen_33  \n",
              "0     0.6656     0.7119      0.786     0.2654     0.4601    0.11890        NaN  \n",
              "1     0.1866     0.2416      0.786     0.1860     0.2750    0.08902        NaN  \n",
              "2     0.4245     0.4504      0.786     0.2430     0.3613    0.08758        NaN  \n",
              "\n",
              "[3 rows x 35 columns]"
            ]
          },
          "execution_count": 1,
          "metadata": {},
          "output_type": "execute_result"
        }
      ],
      "source": [
        "import pandas as pd\n",
        "\n",
        "dataset = pd.read_csv('data.csv')\n",
        "dataset.head(3)\n"
      ]
    },
    {
      "cell_type": "code",
      "execution_count": 2,
      "metadata": {
        "id": "kPvSnjZYrKmm"
      },
      "outputs": [
        {
          "data": {
            "text/plain": [
              "(569, 35)"
            ]
          },
          "execution_count": 2,
          "metadata": {},
          "output_type": "execute_result"
        }
      ],
      "source": [
        "dataset.shape"
      ]
    },
    {
      "cell_type": "code",
      "execution_count": 3,
      "metadata": {
        "id": "8cH1rfPjrKvP"
      },
      "outputs": [
        {
          "data": {
            "text/plain": [
              "diagnostico\n",
              "B    357\n",
              "M    212\n",
              "Name: count, dtype: int64"
            ]
          },
          "execution_count": 3,
          "metadata": {},
          "output_type": "execute_result"
        }
      ],
      "source": [
        "dataset.diagnostico.value_counts()"
      ]
    },
    {
      "cell_type": "code",
      "execution_count": 4,
      "metadata": {},
      "outputs": [
        {
          "data": {
            "text/plain": [
              "id               0\n",
              "diagnostico      0\n",
              "examen_1         0\n",
              "examen_2         0\n",
              "examen_3         0\n",
              "examen_4         0\n",
              "examen_5         0\n",
              "examen_6         0\n",
              "examen_7         0\n",
              "examen_8         0\n",
              "examen_9         0\n",
              "examen_10        0\n",
              "examen_11        0\n",
              "examen_12        0\n",
              "examen_13        0\n",
              "examen_14        0\n",
              "examen_15        0\n",
              "examen_16        0\n",
              "examen_17        0\n",
              "examen_18        0\n",
              "examen_19        0\n",
              "examen_20        0\n",
              "examen_21        0\n",
              "examen_22        0\n",
              "examen_23        0\n",
              "examen_24        0\n",
              "examen_25        0\n",
              "examen_26        0\n",
              "examen_27        0\n",
              "examen_28        0\n",
              "examen_29        0\n",
              "examen_30        0\n",
              "examen_31        0\n",
              "examen_32        0\n",
              "examen_33      419\n",
              "dtype: int64"
            ]
          },
          "execution_count": 4,
          "metadata": {},
          "output_type": "execute_result"
        }
      ],
      "source": [
        "dataset.isna().sum()"
      ]
    },
    {
      "cell_type": "code",
      "execution_count": 5,
      "metadata": {},
      "outputs": [],
      "source": [
        "dataset.drop(columns= ['id', 'examen_33'], axis = 1, inplace=True)\n",
        "dataset.diagnostico.replace('M',1, inplace=True)\n",
        "dataset.diagnostico.replace('B',0, inplace=True)"
      ]
    },
    {
      "cell_type": "code",
      "execution_count": 6,
      "metadata": {},
      "outputs": [
        {
          "data": {
            "text/html": [
              "<div>\n",
              "<style scoped>\n",
              "    .dataframe tbody tr th:only-of-type {\n",
              "        vertical-align: middle;\n",
              "    }\n",
              "\n",
              "    .dataframe tbody tr th {\n",
              "        vertical-align: top;\n",
              "    }\n",
              "\n",
              "    .dataframe thead th {\n",
              "        text-align: right;\n",
              "    }\n",
              "</style>\n",
              "<table border=\"1\" class=\"dataframe\">\n",
              "  <thead>\n",
              "    <tr style=\"text-align: right;\">\n",
              "      <th></th>\n",
              "      <th>diagnostico</th>\n",
              "      <th>examen_1</th>\n",
              "      <th>examen_2</th>\n",
              "      <th>examen_3</th>\n",
              "      <th>examen_4</th>\n",
              "      <th>examen_5</th>\n",
              "      <th>examen_6</th>\n",
              "      <th>examen_7</th>\n",
              "      <th>examen_8</th>\n",
              "      <th>examen_9</th>\n",
              "      <th>...</th>\n",
              "      <th>examen_23</th>\n",
              "      <th>examen_24</th>\n",
              "      <th>examen_25</th>\n",
              "      <th>examen_26</th>\n",
              "      <th>examen_27</th>\n",
              "      <th>examen_28</th>\n",
              "      <th>examen_29</th>\n",
              "      <th>examen_30</th>\n",
              "      <th>examen_31</th>\n",
              "      <th>examen_32</th>\n",
              "    </tr>\n",
              "  </thead>\n",
              "  <tbody>\n",
              "    <tr>\n",
              "      <th>0</th>\n",
              "      <td>1</td>\n",
              "      <td>17.99</td>\n",
              "      <td>10.38</td>\n",
              "      <td>122.80</td>\n",
              "      <td>103.78</td>\n",
              "      <td>1001.0</td>\n",
              "      <td>0.11840</td>\n",
              "      <td>0.27760</td>\n",
              "      <td>0.3001</td>\n",
              "      <td>0.14710</td>\n",
              "      <td>...</td>\n",
              "      <td>17.33</td>\n",
              "      <td>184.60</td>\n",
              "      <td>2019.0</td>\n",
              "      <td>0.1622</td>\n",
              "      <td>0.6656</td>\n",
              "      <td>0.7119</td>\n",
              "      <td>0.786</td>\n",
              "      <td>0.2654</td>\n",
              "      <td>0.4601</td>\n",
              "      <td>0.11890</td>\n",
              "    </tr>\n",
              "    <tr>\n",
              "      <th>1</th>\n",
              "      <td>1</td>\n",
              "      <td>20.57</td>\n",
              "      <td>17.77</td>\n",
              "      <td>132.90</td>\n",
              "      <td>103.78</td>\n",
              "      <td>1326.0</td>\n",
              "      <td>0.08474</td>\n",
              "      <td>0.07864</td>\n",
              "      <td>0.0869</td>\n",
              "      <td>0.07017</td>\n",
              "      <td>...</td>\n",
              "      <td>23.41</td>\n",
              "      <td>158.80</td>\n",
              "      <td>1956.0</td>\n",
              "      <td>0.1238</td>\n",
              "      <td>0.1866</td>\n",
              "      <td>0.2416</td>\n",
              "      <td>0.786</td>\n",
              "      <td>0.1860</td>\n",
              "      <td>0.2750</td>\n",
              "      <td>0.08902</td>\n",
              "    </tr>\n",
              "    <tr>\n",
              "      <th>2</th>\n",
              "      <td>1</td>\n",
              "      <td>19.69</td>\n",
              "      <td>21.25</td>\n",
              "      <td>130.00</td>\n",
              "      <td>103.78</td>\n",
              "      <td>1203.0</td>\n",
              "      <td>0.10960</td>\n",
              "      <td>0.15990</td>\n",
              "      <td>0.1974</td>\n",
              "      <td>0.12790</td>\n",
              "      <td>...</td>\n",
              "      <td>25.53</td>\n",
              "      <td>152.50</td>\n",
              "      <td>1709.0</td>\n",
              "      <td>0.1444</td>\n",
              "      <td>0.4245</td>\n",
              "      <td>0.4504</td>\n",
              "      <td>0.786</td>\n",
              "      <td>0.2430</td>\n",
              "      <td>0.3613</td>\n",
              "      <td>0.08758</td>\n",
              "    </tr>\n",
              "    <tr>\n",
              "      <th>3</th>\n",
              "      <td>1</td>\n",
              "      <td>11.42</td>\n",
              "      <td>20.38</td>\n",
              "      <td>77.58</td>\n",
              "      <td>103.78</td>\n",
              "      <td>386.1</td>\n",
              "      <td>0.14250</td>\n",
              "      <td>0.28390</td>\n",
              "      <td>0.2414</td>\n",
              "      <td>0.10520</td>\n",
              "      <td>...</td>\n",
              "      <td>26.50</td>\n",
              "      <td>98.87</td>\n",
              "      <td>567.7</td>\n",
              "      <td>0.2098</td>\n",
              "      <td>0.8663</td>\n",
              "      <td>0.6869</td>\n",
              "      <td>0.786</td>\n",
              "      <td>0.2575</td>\n",
              "      <td>0.6638</td>\n",
              "      <td>0.17300</td>\n",
              "    </tr>\n",
              "    <tr>\n",
              "      <th>4</th>\n",
              "      <td>1</td>\n",
              "      <td>20.29</td>\n",
              "      <td>14.34</td>\n",
              "      <td>135.10</td>\n",
              "      <td>103.78</td>\n",
              "      <td>1297.0</td>\n",
              "      <td>0.10030</td>\n",
              "      <td>0.13280</td>\n",
              "      <td>0.1980</td>\n",
              "      <td>0.10430</td>\n",
              "      <td>...</td>\n",
              "      <td>16.67</td>\n",
              "      <td>152.20</td>\n",
              "      <td>1575.0</td>\n",
              "      <td>0.1374</td>\n",
              "      <td>0.2050</td>\n",
              "      <td>0.4000</td>\n",
              "      <td>0.786</td>\n",
              "      <td>0.1625</td>\n",
              "      <td>0.2364</td>\n",
              "      <td>0.07678</td>\n",
              "    </tr>\n",
              "  </tbody>\n",
              "</table>\n",
              "<p>5 rows × 33 columns</p>\n",
              "</div>"
            ],
            "text/plain": [
              "   diagnostico  examen_1  examen_2  examen_3  examen_4  examen_5  examen_6  \\\n",
              "0            1     17.99     10.38    122.80    103.78    1001.0   0.11840   \n",
              "1            1     20.57     17.77    132.90    103.78    1326.0   0.08474   \n",
              "2            1     19.69     21.25    130.00    103.78    1203.0   0.10960   \n",
              "3            1     11.42     20.38     77.58    103.78     386.1   0.14250   \n",
              "4            1     20.29     14.34    135.10    103.78    1297.0   0.10030   \n",
              "\n",
              "   examen_7  examen_8  examen_9  ...  examen_23  examen_24  examen_25  \\\n",
              "0   0.27760    0.3001   0.14710  ...      17.33     184.60     2019.0   \n",
              "1   0.07864    0.0869   0.07017  ...      23.41     158.80     1956.0   \n",
              "2   0.15990    0.1974   0.12790  ...      25.53     152.50     1709.0   \n",
              "3   0.28390    0.2414   0.10520  ...      26.50      98.87      567.7   \n",
              "4   0.13280    0.1980   0.10430  ...      16.67     152.20     1575.0   \n",
              "\n",
              "   examen_26  examen_27  examen_28  examen_29  examen_30  examen_31  examen_32  \n",
              "0     0.1622     0.6656     0.7119      0.786     0.2654     0.4601    0.11890  \n",
              "1     0.1238     0.1866     0.2416      0.786     0.1860     0.2750    0.08902  \n",
              "2     0.1444     0.4245     0.4504      0.786     0.2430     0.3613    0.08758  \n",
              "3     0.2098     0.8663     0.6869      0.786     0.2575     0.6638    0.17300  \n",
              "4     0.1374     0.2050     0.4000      0.786     0.1625     0.2364    0.07678  \n",
              "\n",
              "[5 rows x 33 columns]"
            ]
          },
          "execution_count": 6,
          "metadata": {},
          "output_type": "execute_result"
        }
      ],
      "source": [
        "dataset.head()"
      ]
    },
    {
      "cell_type": "markdown",
      "metadata": {},
      "source": [
        "*Seleccionamos y dividimos y estandarizamos los datos de prueba y entrenamiento*"
      ]
    },
    {
      "cell_type": "code",
      "execution_count": 8,
      "metadata": {},
      "outputs": [],
      "source": [
        "from sklearn.model_selection import train_test_split\n",
        "from sklearn.preprocessing import StandardScaler\n",
        "\n",
        "\n",
        "x = dataset.drop(columns = 'diagnostico', axis = 1)\n",
        "x_std = StandardScaler().fit_transform(x)#Estandarizacion\n",
        "y = dataset.diagnostico\n",
        "\n",
        "x_train, x_test, y_train, y_test = train_test_split(x, y, random_state=42, test_size=0.3)"
      ]
    },
    {
      "cell_type": "markdown",
      "metadata": {},
      "source": [
        "*Entrenamos al modelos*"
      ]
    },
    {
      "cell_type": "code",
      "execution_count": 9,
      "metadata": {},
      "outputs": [
        {
          "data": {
            "text/html": [
              "<style>#sk-container-id-1 {color: black;}#sk-container-id-1 pre{padding: 0;}#sk-container-id-1 div.sk-toggleable {background-color: white;}#sk-container-id-1 label.sk-toggleable__label {cursor: pointer;display: block;width: 100%;margin-bottom: 0;padding: 0.3em;box-sizing: border-box;text-align: center;}#sk-container-id-1 label.sk-toggleable__label-arrow:before {content: \"▸\";float: left;margin-right: 0.25em;color: #696969;}#sk-container-id-1 label.sk-toggleable__label-arrow:hover:before {color: black;}#sk-container-id-1 div.sk-estimator:hover label.sk-toggleable__label-arrow:before {color: black;}#sk-container-id-1 div.sk-toggleable__content {max-height: 0;max-width: 0;overflow: hidden;text-align: left;background-color: #f0f8ff;}#sk-container-id-1 div.sk-toggleable__content pre {margin: 0.2em;color: black;border-radius: 0.25em;background-color: #f0f8ff;}#sk-container-id-1 input.sk-toggleable__control:checked~div.sk-toggleable__content {max-height: 200px;max-width: 100%;overflow: auto;}#sk-container-id-1 input.sk-toggleable__control:checked~label.sk-toggleable__label-arrow:before {content: \"▾\";}#sk-container-id-1 div.sk-estimator input.sk-toggleable__control:checked~label.sk-toggleable__label {background-color: #d4ebff;}#sk-container-id-1 div.sk-label input.sk-toggleable__control:checked~label.sk-toggleable__label {background-color: #d4ebff;}#sk-container-id-1 input.sk-hidden--visually {border: 0;clip: rect(1px 1px 1px 1px);clip: rect(1px, 1px, 1px, 1px);height: 1px;margin: -1px;overflow: hidden;padding: 0;position: absolute;width: 1px;}#sk-container-id-1 div.sk-estimator {font-family: monospace;background-color: #f0f8ff;border: 1px dotted black;border-radius: 0.25em;box-sizing: border-box;margin-bottom: 0.5em;}#sk-container-id-1 div.sk-estimator:hover {background-color: #d4ebff;}#sk-container-id-1 div.sk-parallel-item::after {content: \"\";width: 100%;border-bottom: 1px solid gray;flex-grow: 1;}#sk-container-id-1 div.sk-label:hover label.sk-toggleable__label {background-color: #d4ebff;}#sk-container-id-1 div.sk-serial::before {content: \"\";position: absolute;border-left: 1px solid gray;box-sizing: border-box;top: 0;bottom: 0;left: 50%;z-index: 0;}#sk-container-id-1 div.sk-serial {display: flex;flex-direction: column;align-items: center;background-color: white;padding-right: 0.2em;padding-left: 0.2em;position: relative;}#sk-container-id-1 div.sk-item {position: relative;z-index: 1;}#sk-container-id-1 div.sk-parallel {display: flex;align-items: stretch;justify-content: center;background-color: white;position: relative;}#sk-container-id-1 div.sk-item::before, #sk-container-id-1 div.sk-parallel-item::before {content: \"\";position: absolute;border-left: 1px solid gray;box-sizing: border-box;top: 0;bottom: 0;left: 50%;z-index: -1;}#sk-container-id-1 div.sk-parallel-item {display: flex;flex-direction: column;z-index: 1;position: relative;background-color: white;}#sk-container-id-1 div.sk-parallel-item:first-child::after {align-self: flex-end;width: 50%;}#sk-container-id-1 div.sk-parallel-item:last-child::after {align-self: flex-start;width: 50%;}#sk-container-id-1 div.sk-parallel-item:only-child::after {width: 0;}#sk-container-id-1 div.sk-dashed-wrapped {border: 1px dashed gray;margin: 0 0.4em 0.5em 0.4em;box-sizing: border-box;padding-bottom: 0.4em;background-color: white;}#sk-container-id-1 div.sk-label label {font-family: monospace;font-weight: bold;display: inline-block;line-height: 1.2em;}#sk-container-id-1 div.sk-label-container {text-align: center;}#sk-container-id-1 div.sk-container {/* jupyter's `normalize.less` sets `[hidden] { display: none; }` but bootstrap.min.css set `[hidden] { display: none !important; }` so we also need the `!important` here to be able to override the default hidden behavior on the sphinx rendered scikit-learn.org. See: https://github.com/scikit-learn/scikit-learn/issues/21755 */display: inline-block !important;position: relative;}#sk-container-id-1 div.sk-text-repr-fallback {display: none;}</style><div id=\"sk-container-id-1\" class=\"sk-top-container\"><div class=\"sk-text-repr-fallback\"><pre>LogisticRegression(C=100, n_jobs=-1)</pre><b>In a Jupyter environment, please rerun this cell to show the HTML representation or trust the notebook. <br />On GitHub, the HTML representation is unable to render, please try loading this page with nbviewer.org.</b></div><div class=\"sk-container\" hidden><div class=\"sk-item\"><div class=\"sk-estimator sk-toggleable\"><input class=\"sk-toggleable__control sk-hidden--visually\" id=\"sk-estimator-id-1\" type=\"checkbox\" checked><label for=\"sk-estimator-id-1\" class=\"sk-toggleable__label sk-toggleable__label-arrow\">LogisticRegression</label><div class=\"sk-toggleable__content\"><pre>LogisticRegression(C=100, n_jobs=-1)</pre></div></div></div></div></div>"
            ],
            "text/plain": [
              "LogisticRegression(C=100, n_jobs=-1)"
            ]
          },
          "execution_count": 9,
          "metadata": {},
          "output_type": "execute_result"
        }
      ],
      "source": [
        "from sklearn.linear_model import LogisticRegression\n",
        "\n",
        "logistic = LogisticRegression(C=100, n_jobs=-1)\n",
        "logistic.fit(x_train, y_train)"
      ]
    },
    {
      "cell_type": "code",
      "execution_count": 11,
      "metadata": {},
      "outputs": [
        {
          "data": {
            "text/plain": [
              "0.9707602339181286"
            ]
          },
          "execution_count": 11,
          "metadata": {},
          "output_type": "execute_result"
        }
      ],
      "source": [
        "logistic.score(x_test, y_test)"
      ]
    },
    {
      "cell_type": "code",
      "execution_count": null,
      "metadata": {},
      "outputs": [],
      "source": []
    },
    {
      "cell_type": "code",
      "execution_count": null,
      "metadata": {},
      "outputs": [],
      "source": []
    },
    {
      "cell_type": "code",
      "execution_count": null,
      "metadata": {},
      "outputs": [],
      "source": []
    },
    {
      "cell_type": "markdown",
      "metadata": {
        "id": "xOEG2FQQMh2t"
      },
      "source": [
        "# 2. Avanzando y explorando los datos\n",
        "\n",
        "##### *https://seaborn.pydata.org/introduction.html*\n",
        "*https://matplotlib.org/stable/api/_as_gen/matplotlib.pyplot.html*"
      ]
    },
    {
      "cell_type": "code",
      "execution_count": null,
      "metadata": {
        "id": "tnIMNr3BMnst"
      },
      "outputs": [],
      "source": []
    },
    {
      "cell_type": "code",
      "execution_count": null,
      "metadata": {
        "id": "QDbHcT-kMnvd"
      },
      "outputs": [],
      "source": []
    },
    {
      "cell_type": "code",
      "execution_count": null,
      "metadata": {
        "id": "Kx5bg1kFMnxW"
      },
      "outputs": [],
      "source": []
    },
    {
      "cell_type": "markdown",
      "metadata": {
        "id": "2lDXIQUGQxO-"
      },
      "source": [
        "# 3. Datos correlacionados"
      ]
    },
    {
      "cell_type": "code",
      "execution_count": null,
      "metadata": {
        "id": "J1GuQQwiTmNb"
      },
      "outputs": [],
      "source": []
    },
    {
      "cell_type": "code",
      "execution_count": null,
      "metadata": {
        "id": "KuqtsSsVnbje"
      },
      "outputs": [],
      "source": []
    },
    {
      "cell_type": "code",
      "execution_count": null,
      "metadata": {
        "id": "gJ5Y2c14nMOj"
      },
      "outputs": [],
      "source": []
    },
    {
      "cell_type": "markdown",
      "metadata": {
        "id": "DQKzu1KDQ32n"
      },
      "source": [
        "# 4. Automatizando la selección de los datos\n",
        "\n",
        "##### *https://scikit-learn.org/stable/modules/generated/sklearn.feature_selection.SelectKBest.html*\n",
        "\n",
        "*https://scikit-learn.org/stable/modules/generated/sklearn.feature_selection.chi2.html*\n",
        "\n",
        "*https://scikit-learn.org/stable/modules/generated/sklearn.metrics.plot_confusion_matrix.html*\n",
        "\n",
        "*https://scikit-learn.org/stable/modules/generated/sklearn.feature_selection.RFE.html*"
      ]
    },
    {
      "cell_type": "code",
      "execution_count": null,
      "metadata": {
        "id": "Qh908eM9pHpG"
      },
      "outputs": [],
      "source": []
    },
    {
      "cell_type": "code",
      "execution_count": null,
      "metadata": {
        "id": "GG4uIZHGpHwm"
      },
      "outputs": [],
      "source": []
    },
    {
      "cell_type": "code",
      "execution_count": null,
      "metadata": {
        "id": "FUBA2C1GpH7V"
      },
      "outputs": [],
      "source": []
    },
    {
      "cell_type": "markdown",
      "metadata": {
        "id": "KXUegHEPRBcH"
      },
      "source": [
        "# 5. Visualizando los datos en el plano\n",
        "\n",
        "##### *https://scikit-learn.org/stable/modules/generated/sklearn.feature_selection.RFECV.html*\n",
        "\n",
        "*https://scikit-learn.org/stable/modules/generated/sklearn.decomposition.PCA.html*\n",
        "\n",
        "*https://scikit-learn.org/stable/modules/generated/sklearn.manifold.TSNE.html*"
      ]
    },
    {
      "cell_type": "code",
      "execution_count": null,
      "metadata": {
        "id": "PODlz4xbRGQ1"
      },
      "outputs": [],
      "source": []
    },
    {
      "cell_type": "code",
      "execution_count": null,
      "metadata": {
        "id": "czoeL8UMRGxn"
      },
      "outputs": [],
      "source": []
    },
    {
      "cell_type": "code",
      "execution_count": null,
      "metadata": {
        "id": "bMOVFo41RG0O"
      },
      "outputs": [],
      "source": []
    }
  ],
  "metadata": {
    "colab": {
      "authorship_tag": "ABX9TyO/cU2J/1DAqVhleKH/JfiS",
      "include_colab_link": true,
      "mount_file_id": "197Fznu0G_lGkR4EDNPFZm47ZXuOhRjvt",
      "name": "Dimensionality-Reduction-main.ipynb",
      "provenance": []
    },
    "kernelspec": {
      "display_name": "Python 3",
      "name": "python3"
    },
    "language_info": {
      "codemirror_mode": {
        "name": "ipython",
        "version": 3
      },
      "file_extension": ".py",
      "mimetype": "text/x-python",
      "name": "python",
      "nbconvert_exporter": "python",
      "pygments_lexer": "ipython3",
      "version": "3.11.4"
    }
  },
  "nbformat": 4,
  "nbformat_minor": 0
}
