{
  "nbformat": 4,
  "nbformat_minor": 0,
  "metadata": {
    "colab": {
      "name": "Dimensionality-Reduction-main.ipynb",
      "provenance": [],
      "mount_file_id": "197Fznu0G_lGkR4EDNPFZm47ZXuOhRjvt",
      "authorship_tag": "ABX9TyO/cU2J/1DAqVhleKH/JfiS",
      "include_colab_link": true
    },
    "kernelspec": {
      "name": "python3",
      "display_name": "Python 3"
    },
    "language_info": {
      "name": "python"
    }
  },
  "cells": [
    {
      "cell_type": "markdown",
      "metadata": {
        "id": "view-in-github",
        "colab_type": "text"
      },
      "source": [
        "<a href=\"https://colab.research.google.com/github/ahcamachod/1820-machine-learning-lidiando-con-datos-de-muchas-dimensiones/blob/main/dimensionality_reduction.ipynb\" target=\"_parent\"><img src=\"https://colab.research.google.com/assets/colab-badge.svg\" alt=\"Open In Colab\"/></a>"
      ]
    },
    {
      "cell_type": "markdown",
      "metadata": {
        "id": "ZZgfWEehIjqS"
      },
      "source": [
        "# Machine Learning: Lidiando con datos de muchas dimensiones\n",
        "\n",
        "Cuando trabajamos con datos que contienen muchas dimensiones, lo recomendable es tomar dichos datos y transformarlos de modo que se ajusten a un espacio dimensional menor asegurándonos de que el espacio dimensional resultante mantenga las propiedades que mejor caracterizan a los datos originales, garantizando su dimensión intrínseca.\n",
        "\n",
        "\n",
        "En este notebook, estaremos aprendiendo varias estrategias para lidiar con la alta dimensionalidad en el modelaje de aprendizaje de máquina.\n",
        "\n",
        "\n",
        "El dataset empleado en el desarrollo de este proyecto es un dataset ficticio, llamado a ```aluracare.csv```, adaptado a nuestro contexto, tomando como referencia el siguiente dataset:  \n",
        "\n",
        "*Dataset:* https://www.kaggle.com/uciml/breast-cancer-wisconsin-data"
      ]
    },
    {
      "cell_type": "markdown",
      "metadata": {
        "id": "t1M-apGPQVH6"
      },
      "source": [
        "# 1. Datos con muchas dimensiones\n",
        "\n",
        "##### *https://scikit-learn.org/stable/modules/generated/sklearn.model_selection.train_test_split.html*\n",
        "\n",
        "*https://scikit-learn.org/stable/modules/generated/sklearn.preprocessing.StandardScaler.html*\n",
        "\n",
        "*https://scikit-learn.org/stable/modules/generated/sklearn.linear_model.LogisticRegression.html*\n",
        "\n",
        "*https://scikit-learn.org/stable/modules/generated/sklearn.ensemble.RandomForestClassifier.html*"
      ]
    },
    {
      "cell_type": "code",
      "metadata": {
        "id": "xLOo7qawrKcw"
      },
      "source": [
        ""
      ],
      "execution_count": null,
      "outputs": []
    },
    {
      "cell_type": "code",
      "metadata": {
        "id": "kPvSnjZYrKmm"
      },
      "source": [
        ""
      ],
      "execution_count": null,
      "outputs": []
    },
    {
      "cell_type": "code",
      "metadata": {
        "id": "8cH1rfPjrKvP"
      },
      "source": [
        ""
      ],
      "execution_count": null,
      "outputs": []
    },
    {
      "cell_type": "markdown",
      "metadata": {
        "id": "xOEG2FQQMh2t"
      },
      "source": [
        "# 2. Avanzando y explorando los datos\n",
        "\n",
        "##### *https://seaborn.pydata.org/introduction.html*\n",
        "*https://matplotlib.org/stable/api/_as_gen/matplotlib.pyplot.html*"
      ]
    },
    {
      "cell_type": "code",
      "metadata": {
        "id": "tnIMNr3BMnst"
      },
      "source": [
        ""
      ],
      "execution_count": null,
      "outputs": []
    },
    {
      "cell_type": "code",
      "metadata": {
        "id": "QDbHcT-kMnvd"
      },
      "source": [
        ""
      ],
      "execution_count": null,
      "outputs": []
    },
    {
      "cell_type": "code",
      "metadata": {
        "id": "Kx5bg1kFMnxW"
      },
      "source": [
        ""
      ],
      "execution_count": null,
      "outputs": []
    },
    {
      "cell_type": "markdown",
      "metadata": {
        "id": "2lDXIQUGQxO-"
      },
      "source": [
        "# 3. Datos correlacionados"
      ]
    },
    {
      "cell_type": "code",
      "metadata": {
        "id": "J1GuQQwiTmNb"
      },
      "source": [
        ""
      ],
      "execution_count": null,
      "outputs": []
    },
    {
      "cell_type": "code",
      "metadata": {
        "id": "KuqtsSsVnbje"
      },
      "source": [
        ""
      ],
      "execution_count": null,
      "outputs": []
    },
    {
      "cell_type": "code",
      "metadata": {
        "id": "gJ5Y2c14nMOj"
      },
      "source": [
        ""
      ],
      "execution_count": null,
      "outputs": []
    },
    {
      "cell_type": "markdown",
      "metadata": {
        "id": "DQKzu1KDQ32n"
      },
      "source": [
        "# 4. Automatizando la selección de los datos\n",
        "\n",
        "##### *https://scikit-learn.org/stable/modules/generated/sklearn.feature_selection.SelectKBest.html*\n",
        "\n",
        "*https://scikit-learn.org/stable/modules/generated/sklearn.feature_selection.chi2.html*\n",
        "\n",
        "*https://scikit-learn.org/stable/modules/generated/sklearn.metrics.plot_confusion_matrix.html*\n",
        "\n",
        "*https://scikit-learn.org/stable/modules/generated/sklearn.feature_selection.RFE.html*"
      ]
    },
    {
      "cell_type": "code",
      "metadata": {
        "id": "Qh908eM9pHpG"
      },
      "source": [
        ""
      ],
      "execution_count": null,
      "outputs": []
    },
    {
      "cell_type": "code",
      "metadata": {
        "id": "GG4uIZHGpHwm"
      },
      "source": [
        ""
      ],
      "execution_count": null,
      "outputs": []
    },
    {
      "cell_type": "code",
      "metadata": {
        "id": "FUBA2C1GpH7V"
      },
      "source": [
        ""
      ],
      "execution_count": null,
      "outputs": []
    },
    {
      "cell_type": "markdown",
      "metadata": {
        "id": "KXUegHEPRBcH"
      },
      "source": [
        "# 5. Visualizando los datos en el plano\n",
        "\n",
        "##### *https://scikit-learn.org/stable/modules/generated/sklearn.feature_selection.RFECV.html*\n",
        "\n",
        "*https://scikit-learn.org/stable/modules/generated/sklearn.decomposition.PCA.html*\n",
        "\n",
        "*https://scikit-learn.org/stable/modules/generated/sklearn.manifold.TSNE.html*"
      ]
    },
    {
      "cell_type": "code",
      "metadata": {
        "id": "PODlz4xbRGQ1"
      },
      "source": [
        ""
      ],
      "execution_count": null,
      "outputs": []
    },
    {
      "cell_type": "code",
      "metadata": {
        "id": "czoeL8UMRGxn"
      },
      "source": [
        ""
      ],
      "execution_count": null,
      "outputs": []
    },
    {
      "cell_type": "code",
      "metadata": {
        "id": "bMOVFo41RG0O"
      },
      "source": [
        ""
      ],
      "execution_count": null,
      "outputs": []
    }
  ]
}